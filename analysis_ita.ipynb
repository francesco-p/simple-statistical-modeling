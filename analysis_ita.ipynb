{
 "cells": [
  {
   "cell_type": "code",
   "execution_count": 1,
   "metadata": {
    "slideshow": {
     "slide_type": "skip"
    }
   },
   "outputs": [],
   "source": [
    "# Multiple plot function yes very interesting\n",
    "#\n",
    "# ggplot objects can be passed in ..., or to plotlist (as a list of ggplot objects)\n",
    "# - cols:   Number of columns in layout\n",
    "# - layout: A matrix specifying the layout. If present, 'cols' is ignored.\n",
    "#\n",
    "# If the layout is something like matrix(c(1,2,3,3), nrow=2, byrow=TRUE),\n",
    "# then plot 1 will go in the upper left, 2 will go in the upper right, and\n",
    "# 3 will go all the way across the bottom.\n",
    "#\n",
    "multiplot <- function(..., plotlist=NULL, file, cols=1, layout=NULL) {\n",
    "  library(grid)\n",
    "\n",
    "  # Make a list from the ... arguments and plotlist\n",
    "  plots <- c(list(...), plotlist)\n",
    "\n",
    "  numPlots = length(plots)\n",
    "\n",
    "  # If layout is NULL, then use 'cols' to determine layout\n",
    "  if (is.null(layout)) {\n",
    "    # Make the panel\n",
    "    # ncol: Number of columns of plots\n",
    "    # nrow: Number of rows needed, calculated from # of cols\n",
    "    layout <- matrix(seq(1, cols * ceiling(numPlots/cols)),\n",
    "                    ncol = cols, nrow = ceiling(numPlots/cols))\n",
    "  }\n",
    "\n",
    " if (numPlots==1) {\n",
    "    print(plots[[1]])\n",
    "\n",
    "  } else {\n",
    "    # Set up the page\n",
    "    grid.newpage()\n",
    "    pushViewport(viewport(layout = grid.layout(nrow(layout), ncol(layout))))\n",
    "\n",
    "    # Make each plot, in the correct location\n",
    "    for (i in 1:numPlots) {\n",
    "      # Get the i,j matrix positions of the regions that contain this subplot\n",
    "      matchidx <- as.data.frame(which(layout == i, arr.ind = TRUE))\n",
    "\n",
    "      print(plots[[i]], vp = viewport(layout.pos.row = matchidx$row,\n",
    "                                      layout.pos.col = matchidx$col))\n",
    "    }\n",
    "  }\n",
    "}\n"
   ]
  },
  {
   "cell_type": "markdown",
   "metadata": {
    "slideshow": {
     "slide_type": "slide"
    }
   },
   "source": [
    "\n",
    "<center>\n",
    "\n",
    "<h1>Modellazione Dataset Housing-Markets</h1>\n",
    "<h2>Statistical Inference 2016/2017 </h2>\n",
    "<br />\n",
    "<br />\n",
    "<h5>Studente: Francesco Pelosin</h5>\n",
    "<h5>Matricola: 839220</h5>\n",
    "<h5>e-mail: 839220@stud.unive.it</h5>\n",
    "</center>\n",
    "\n"
   ]
  },
  {
   "cell_type": "markdown",
   "metadata": {
    "slideshow": {
     "slide_type": "slide"
    }
   },
   "source": [
    "## 1. Preprocessing\n",
    "\n",
    "La prima cosa da fare è uno step di preprocessing dove cerchiamo **valori mancanti**, **modifichiamo colonne** e facciamo tutte quelle operazioni che riguardano i dati puri."
   ]
  },
  {
   "cell_type": "markdown",
   "metadata": {
    "slideshow": {
     "slide_type": "subslide"
    }
   },
   "source": [
    "Il dataset è composto come segue:\n",
    "\n",
    "1. `price`: Prezzo della casa in 100 \\$ dollari (**Variabile risposta**)\n",
    "2. `dimension`: Dimensione della casa in piedi quadri (**Predittore quantitativo**)\n",
    "3. `score`: Valutazione da 0 a 10 data da un esperto del settore (**Predittore categoriale**)\n",
    "4. `city.center`: Variabile sì/no, \"la casa è in centro città?\" (**Predittore categoriale**)\n",
    "5. `traditional`: Variabile sì/no, \"la casa è stile tradizionale?\"  (**Predittore categoriale**)\n",
    "6. `garage`: Variabile sì/no, \"la casa dispone di un garage?\" (**Predittore categoriale**)"
   ]
  },
  {
   "cell_type": "code",
   "execution_count": 2,
   "metadata": {
    "collapsed": true,
    "slideshow": {
     "slide_type": "skip"
    }
   },
   "outputs": [],
   "source": [
    "oldw <- getOption(\"warn\")\n",
    "options(warn = -1)"
   ]
  },
  {
   "cell_type": "code",
   "execution_count": 3,
   "metadata": {
    "scrolled": true,
    "slideshow": {
     "slide_type": "subslide"
    }
   },
   "outputs": [
    {
     "data": {
      "text/html": [
       "<table>\n",
       "<thead><tr><th></th><th scope=col>price</th><th scope=col>dimension</th><th scope=col>score</th><th scope=col>city.center</th><th scope=col>traditional</th><th scope=col>garage</th></tr></thead>\n",
       "<tbody>\n",
       "\t<tr><th scope=row>1</th><td>947 </td><td>1142</td><td>4   </td><td>no  </td><td>no  </td><td>no  </td></tr>\n",
       "\t<tr><th scope=row>2</th><td>654</td><td>768</td><td>2  </td><td>no </td><td>no </td><td>no </td></tr>\n",
       "\t<tr><th scope=row>3</th><td>875 </td><td>1173</td><td>4   </td><td>yes </td><td>no  </td><td>no  </td></tr>\n",
       "\t<tr><th scope=row>4</th><td>1125</td><td>1710</td><td>4   </td><td>yes </td><td>yes </td><td>no  </td></tr>\n",
       "\t<tr><th scope=row>5</th><td>665 </td><td>1407</td><td>4   </td><td>no  </td><td>no  </td><td>no  </td></tr>\n",
       "\t<tr><th scope=row>6</th><td>855 </td><td>1900</td><td>3   </td><td>yes </td><td>no  </td><td>no  </td></tr>\n",
       "</tbody>\n",
       "</table>\n"
      ],
      "text/latex": [
       "\\begin{tabular}{r|llllll}\n",
       "  & price & dimension & score & city.center & traditional & garage\\\\\n",
       "\\hline\n",
       "\t1 & 947  & 1142 & 4    & no   & no   & no  \\\\\n",
       "\t2 & 654 & 768 & 2   & no  & no  & no \\\\\n",
       "\t3 & 875  & 1173 & 4    & yes  & no   & no  \\\\\n",
       "\t4 & 1125 & 1710 & 4    & yes  & yes  & no  \\\\\n",
       "\t5 & 665  & 1407 & 4    & no   & no   & no  \\\\\n",
       "\t6 & 855  & 1900 & 3    & yes  & no   & no  \\\\\n",
       "\\end{tabular}\n"
      ],
      "text/plain": [
       "  price dimension score city.center traditional garage\n",
       "1   947      1142     4          no          no     no\n",
       "2   654       768     2          no          no     no\n",
       "3   875      1173     4         yes          no     no\n",
       "4  1125      1710     4         yes         yes     no\n",
       "5   665      1407     4          no          no     no\n",
       "6   855      1900     3         yes          no     no"
      ]
     },
     "metadata": {},
     "output_type": "display_data"
    }
   ],
   "source": [
    "markets <- read.csv(\"Housing-Market.csv\")\n",
    "head(markets)"
   ]
  },
  {
   "cell_type": "code",
   "execution_count": 4,
   "metadata": {
    "collapsed": true,
    "slideshow": {
     "slide_type": "skip"
    }
   },
   "outputs": [],
   "source": [
    "options(warn = oldw)"
   ]
  },
  {
   "cell_type": "markdown",
   "metadata": {
    "slideshow": {
     "slide_type": "subslide"
    }
   },
   "source": [
    "Iniziamo subito cercando eventuali **valori mancanti** nel dataset:"
   ]
  },
  {
   "cell_type": "code",
   "execution_count": 5,
   "metadata": {
    "slideshow": {
     "slide_type": "fragment"
    }
   },
   "outputs": [
    {
     "data": {
      "text/html": [
       "<dl class=dl-horizontal>\n",
       "\t<dt>price</dt>\n",
       "\t\t<dd>0</dd>\n",
       "\t<dt>dimension</dt>\n",
       "\t\t<dd>0</dd>\n",
       "\t<dt>score</dt>\n",
       "\t\t<dd>0</dd>\n",
       "\t<dt>city.center</dt>\n",
       "\t\t<dd>0</dd>\n",
       "\t<dt>traditional</dt>\n",
       "\t\t<dd>0</dd>\n",
       "\t<dt>garage</dt>\n",
       "\t\t<dd>0</dd>\n",
       "</dl>\n"
      ],
      "text/latex": [
       "\\begin{description*}\n",
       "\\item[price] 0\n",
       "\\item[dimension] 0\n",
       "\\item[score] 0\n",
       "\\item[city.center] 0\n",
       "\\item[traditional] 0\n",
       "\\item[garage] 0\n",
       "\\end{description*}\n"
      ],
      "text/markdown": [
       "price\n",
       ":   0dimension\n",
       ":   0score\n",
       ":   0city.center\n",
       ":   0traditional\n",
       ":   0garage\n",
       ":   0\n",
       "\n"
      ],
      "text/plain": [
       "      price   dimension       score city.center traditional      garage \n",
       "          0           0           0           0           0           0 "
      ]
     },
     "metadata": {},
     "output_type": "display_data"
    }
   ],
   "source": [
    "sapply(markets, function(x) sum(is.na(x)))"
   ]
  },
  {
   "cell_type": "markdown",
   "metadata": {
    "slideshow": {
     "slide_type": "-"
    }
   },
   "source": [
    "Come si può vedere **non ci sono valori mancanti** in quanto nessuna colonna contiene valori `NA`."
   ]
  },
  {
   "cell_type": "markdown",
   "metadata": {
    "slideshow": {
     "slide_type": "subslide"
    }
   },
   "source": [
    "Per rendere l'analisi **più interpretabile** e fruibile a noi (non americani), convertiamo la scala della variabile `dimension` **da  piedi² a metri²**. In questo modo risciamo ad avere una interpretazione più intuitiva durante l'analisi.\n",
    "\n",
    "> Perderemo il valore arrotondato, ma non è un gran problema per R\n",
    "\n",
    "Inoltre passiamo **da centinaia di dollari in dollari** standard."
   ]
  },
  {
   "cell_type": "code",
   "execution_count": 6,
   "metadata": {
    "slideshow": {
     "slide_type": "fragment"
    }
   },
   "outputs": [
    {
     "data": {
      "text/html": [
       "<table>\n",
       "<thead><tr><th></th><th scope=col>price</th><th scope=col>dimension</th><th scope=col>score</th><th scope=col>city.center</th><th scope=col>traditional</th><th scope=col>garage</th></tr></thead>\n",
       "<tbody>\n",
       "\t<tr><th scope=row>1</th><td>94700       </td><td>106.09527168</td><td>4           </td><td>no          </td><td>no          </td><td>no          </td></tr>\n",
       "\t<tr><th scope=row>2</th><td>65400      </td><td>71.34953472</td><td>2          </td><td>no         </td><td>no         </td><td>no         </td></tr>\n",
       "\t<tr><th scope=row>3</th><td>87500       </td><td>108.97526592</td><td>4           </td><td>yes         </td><td>no          </td><td>no          </td></tr>\n",
       "\t<tr><th scope=row>4</th><td>112500     </td><td>158.8641984</td><td>4          </td><td>yes        </td><td>yes        </td><td>no         </td></tr>\n",
       "\t<tr><th scope=row>5</th><td>66500       </td><td>130.71457728</td><td>4           </td><td>no          </td><td>no          </td><td>no          </td></tr>\n",
       "\t<tr><th scope=row>6</th><td>85500     </td><td>176.515776</td><td>3         </td><td>yes       </td><td>no        </td><td>no        </td></tr>\n",
       "</tbody>\n",
       "</table>\n"
      ],
      "text/latex": [
       "\\begin{tabular}{r|llllll}\n",
       "  & price & dimension & score & city.center & traditional & garage\\\\\n",
       "\\hline\n",
       "\t1 & 94700        & 106.09527168 & 4            & no           & no           & no          \\\\\n",
       "\t2 & 65400       & 71.34953472 & 2           & no          & no          & no         \\\\\n",
       "\t3 & 87500        & 108.97526592 & 4            & yes          & no           & no          \\\\\n",
       "\t4 & 112500      & 158.8641984 & 4           & yes         & yes         & no         \\\\\n",
       "\t5 & 66500        & 130.71457728 & 4            & no           & no           & no          \\\\\n",
       "\t6 & 85500      & 176.515776 & 3          & yes        & no         & no        \\\\\n",
       "\\end{tabular}\n"
      ],
      "text/plain": [
       "   price dimension score city.center traditional garage\n",
       "1  94700 106.09527     4          no          no     no\n",
       "2  65400  71.34953     2          no          no     no\n",
       "3  87500 108.97527     4         yes          no     no\n",
       "4 112500 158.86420     4         yes         yes     no\n",
       "5  66500 130.71458     4          no          no     no\n",
       "6  85500 176.51578     3         yes          no     no"
      ]
     },
     "metadata": {},
     "output_type": "display_data"
    }
   ],
   "source": [
    "markets$dimension <- markets$dimension * 0.09290304\n",
    "markets$price <- markets$price * 100\n",
    "head(markets)"
   ]
  },
  {
   "cell_type": "code",
   "execution_count": 7,
   "metadata": {
    "slideshow": {
     "slide_type": "subslide"
    }
   },
   "outputs": [
    {
     "data": {
      "text/plain": [
       "     price          dimension          score       city.center traditional\n",
       " Min.   : 54000   Min.   : 70.98   Min.   :0.000   no : 59     no :130    \n",
       " 1st Qu.: 79850   1st Qu.:112.55   1st Qu.:3.000   yes:108     yes: 37    \n",
       " Median : 97200   Median :136.20   Median :4.000                          \n",
       " Mean   :105350   Mean   :146.55   Mean   :3.509                          \n",
       " 3rd Qu.:116500   3rd Qu.:167.41   3rd Qu.:4.000                          \n",
       " Max.   :216900   Max.   :348.39   Max.   :8.000                          \n",
       " garage   \n",
       " no :136  \n",
       " yes: 31  \n",
       "          \n",
       "          \n",
       "          \n",
       "          "
      ]
     },
     "metadata": {},
     "output_type": "display_data"
    }
   ],
   "source": [
    "summary(markets)"
   ]
  },
  {
   "cell_type": "markdown",
   "metadata": {
    "slideshow": {
     "slide_type": "-"
    }
   },
   "source": [
    "Come si può vedere dal summary `score` **non viene considerato un predittore categoriale**. "
   ]
  },
  {
   "cell_type": "markdown",
   "metadata": {
    "slideshow": {
     "slide_type": "subslide"
    }
   },
   "source": [
    "Forziamo R ad **interpretarlo come tale** attraverso l a funzione `factor`."
   ]
  },
  {
   "cell_type": "code",
   "execution_count": 8,
   "metadata": {
    "slideshow": {
     "slide_type": "fragment"
    }
   },
   "outputs": [
    {
     "data": {
      "text/plain": [
       "     price          dimension          score    city.center traditional\n",
       " Min.   : 54000   Min.   : 70.98   4      :60   no : 59     no :130    \n",
       " 1st Qu.: 79850   1st Qu.:112.55   3      :39   yes:108     yes: 37    \n",
       " Median : 97200   Median :136.20   2      :26                          \n",
       " Mean   :105350   Mean   :146.55   5      :17                          \n",
       " 3rd Qu.:116500   3rd Qu.:167.41   6      :10                          \n",
       " Max.   :216900   Max.   :348.39   1      : 9                          \n",
       "                                   (Other): 6                          \n",
       " garage   \n",
       " no :136  \n",
       " yes: 31  \n",
       "          \n",
       "          \n",
       "          \n",
       "          \n",
       "          "
      ]
     },
     "metadata": {},
     "output_type": "display_data"
    }
   ],
   "source": [
    "markets$score <- factor(markets$score, labels = c(\"0\",\"1\",\"2\",\"3\",\"4\",\"5\",\"6\",\"7\",\"8\"))\n",
    "summary(markets)"
   ]
  },
  {
   "cell_type": "markdown",
   "metadata": {
    "slideshow": {
     "slide_type": "slide"
    }
   },
   "source": [
    "## 2. Exploratory Data Analysis\n",
    "\n",
    "Ora siamo pronti per iniziare la seconda fase (EDA) per estrapolare **informazioni preliminari**, **visualizzare relazioni** tra predittori e la variabile risposta, **identificazione degli outliers** e farci una idea di che tipo di **predittori potremmo includere** nel modello."
   ]
  },
  {
   "cell_type": "markdown",
   "metadata": {
    "slideshow": {
     "slide_type": "subslide"
    }
   },
   "source": [
    "La prima cosa che ho notato con il summary è che:\n",
    "\n",
    "* *Il  numero delle case senza garage è quasi uguale al unmero di case che non sono tradizionali*\n",
    "\n",
    "````\n",
    "        traditional    garage\n",
    "        no :130        no :136   \n",
    "        yes: 37        yes: 31 \n",
    "````\n",
    "\n",
    "Controlliamo se c'è una qualsiasi relazione tra queste due variabili. Se così fosse vremmo due variabili che portano la **stessa informazione** e potremmo rimuoverne una"
   ]
  },
  {
   "cell_type": "code",
   "execution_count": 9,
   "metadata": {
    "collapsed": true,
    "slideshow": {
     "slide_type": "skip"
    }
   },
   "outputs": [],
   "source": [
    "options(repr.plot.width=4, repr.plot.height=3)"
   ]
  },
  {
   "cell_type": "code",
   "execution_count": 10,
   "metadata": {
    "slideshow": {
     "slide_type": "subslide"
    }
   },
   "outputs": [
    {
     "data": {},
     "metadata": {},
     "output_type": "display_data"
    },
    {
     "data": {
      "image/png": "[encoded data removed]",
      "text/plain": [
       "plot without title"
      ]
     },
     "metadata": {},
     "output_type": "display_data"
    }
   ],
   "source": [
    "library(ggplot2) # Libreria grafica ggplot2\n",
    "\n",
    "ggplot(markets, aes(x=traditional, fill=garage))+\n",
    "geom_bar()\n"
   ]
  },
  {
   "cell_type": "markdown",
   "metadata": {
    "slideshow": {
     "slide_type": "-"
    }
   },
   "source": [
    "Il grafico dimostra che **non è il caso**, ci sono più case con il garage (plausibile) per entrambi i tipi di casa."
   ]
  },
  {
   "cell_type": "markdown",
   "metadata": {
    "slideshow": {
     "slide_type": "subslide"
    }
   },
   "source": [
    "Il prossimo grafico a dispersione (**scatter plot**) riguarda l'unica variabile quantitativa `dimension` in relazione con `price`.\n",
    "\n",
    "Quello che personalmente mi aspetto è che:\n",
    "\n",
    "- *Più aumenta la grandezza di una casa, più aumenta il prezzo*\n",
    "\n",
    "Vediamo difatti la loro **correlazione lineare**:\n",
    "\n",
    "$$ Cor(\\texttt{dimension}, \\texttt{price})$$"
   ]
  },
  {
   "cell_type": "code",
   "execution_count": 11,
   "metadata": {
    "slideshow": {
     "slide_type": "fragment"
    }
   },
   "outputs": [
    {
     "data": {
      "text/html": [
       "0.81"
      ],
      "text/latex": [
       "0.81"
      ],
      "text/markdown": [
       "0.81"
      ],
      "text/plain": [
       "[1] 0.81"
      ]
     },
     "metadata": {},
     "output_type": "display_data"
    }
   ],
   "source": [
    "with(markets, round(cor(price,dimension),2))"
   ]
  },
  {
   "cell_type": "markdown",
   "metadata": {
    "slideshow": {
     "slide_type": "-"
    }
   },
   "source": [
    "Infatti il coefficiente è alto **come ci aspettavamo**. Sicuramente questo predittore potrà essere parte del nostro modello, ora vediamo il grafico."
   ]
  },
  {
   "cell_type": "code",
   "execution_count": 12,
   "metadata": {
    "collapsed": true,
    "slideshow": {
     "slide_type": "skip"
    }
   },
   "outputs": [],
   "source": [
    "options(repr.plot.width=4, repr.plot.height=4)"
   ]
  },
  {
   "cell_type": "code",
   "execution_count": 13,
   "metadata": {
    "scrolled": false,
    "slideshow": {
     "slide_type": "subslide"
    }
   },
   "outputs": [
    {
     "data": {},
     "metadata": {},
     "output_type": "display_data"
    },
    {
     "data": {
      "image/png": "[encoded data removed]",
      "text/plain": [
       "plot without title"
      ]
     },
     "metadata": {},
     "output_type": "display_data"
    }
   ],
   "source": [
    "ggplot(markets, aes(x=dimension, y=price)) + \n",
    "    geom_point(shape=16) + \n",
    "    geom_smooth(method=lm) + # Retta di regressione (default 95% reg. di conf.)\n",
    "    ggtitle(\"Price vs Dimension\")+\n",
    "    xlab(\"Dimension in mt²\")+\n",
    "    ylab(\"Price in $\")"
   ]
  },
  {
   "cell_type": "markdown",
   "metadata": {
    "slideshow": {
     "slide_type": "subslide"
    }
   },
   "source": [
    "Osservazioni:\n",
    "\n",
    "1. La prima cosa da notare è che ci sono **due outliers**, sono due case con dimensione maggiore di 300 mt²\n",
    "\n",
    "2. La relazione con il prezzo **non sembra totalmente lineare** forse un termine quadratico potrebbe modellare meglio l'approssimazone.\n",
    "\n",
    "Identifichiamo gli outliers e salviamoli in `markets.outliers`."
   ]
  },
  {
   "cell_type": "code",
   "execution_count": 14,
   "metadata": {
    "slideshow": {
     "slide_type": "fragment"
    }
   },
   "outputs": [
    {
     "data": {
      "text/html": [
       "<table>\n",
       "<thead><tr><th></th><th scope=col>price</th><th scope=col>dimension</th><th scope=col>score</th><th scope=col>city.center</th><th scope=col>traditional</th><th scope=col>garage</th></tr></thead>\n",
       "<tbody>\n",
       "\t<tr><th scope=row>81</th><td>129900      </td><td>322.46645184</td><td>4           </td><td>no          </td><td>yes         </td><td>yes         </td></tr>\n",
       "\t<tr><th scope=row>92</th><td>129500  </td><td>348.3864</td><td>4       </td><td>no      </td><td>yes     </td><td>yes     </td></tr>\n",
       "</tbody>\n",
       "</table>\n"
      ],
      "text/latex": [
       "\\begin{tabular}{r|llllll}\n",
       "  & price & dimension & score & city.center & traditional & garage\\\\\n",
       "\\hline\n",
       "\t81 & 129900       & 322.46645184 & 4            & no           & yes          & yes         \\\\\n",
       "\t92 & 129500   & 348.3864 & 4        & no       & yes      & yes     \\\\\n",
       "\\end{tabular}\n"
      ],
      "text/plain": [
       "    price dimension score city.center traditional garage\n",
       "81 129900  322.4665     4          no         yes    yes\n",
       "92 129500  348.3864     4          no         yes    yes"
      ]
     },
     "metadata": {},
     "output_type": "display_data"
    }
   ],
   "source": [
    "subset(markets, dimension > 300) # Per visualizzare la tebellina\n",
    "markets.outliers <- which(markets$dimension > 300)"
   ]
  },
  {
   "cell_type": "markdown",
   "metadata": {
    "slideshow": {
     "slide_type": "-"
    }
   },
   "source": [
    "Prima di decidere cosa fare, vediamo altri grafici delle restanti variabili."
   ]
  },
  {
   "cell_type": "markdown",
   "metadata": {
    "slideshow": {
     "slide_type": "subslide"
    }
   },
   "source": [
    "Ora abbiamo solo **predditori categoriali**, in questo caso *non si puo calcolare la correlazione* per tanto utilizzeremo dei **box plots** per analizzare i dati. \n",
    "\n",
    "Quello che personalmente mi aspetto è:\n",
    "\n",
    "- *`garage` credo influirà molto nel prezzo della casa (anche se in parte l'informazione potrebbe essere nella variabile dimensione)*\n",
    "\n",
    "- *`city.center` credo influirà molto nel prezzo della casa*\n",
    "\n",
    "- *`traditional` non credo influirà più di tanto nella variabile risposta*\n",
    "\n",
    "- *`score` non credo influirà più di tanto in quanto l'esperto potrebbe essere \"biased\" e dare giudizi non oggettivi in quanto influenzato dalla suoi gusti ed esperienze personali.*"
   ]
  },
  {
   "cell_type": "code",
   "execution_count": 15,
   "metadata": {
    "collapsed": true,
    "slideshow": {
     "slide_type": "skip"
    }
   },
   "outputs": [],
   "source": [
    "options(repr.plot.width=6, repr.plot.height=4)"
   ]
  },
  {
   "cell_type": "code",
   "execution_count": 16,
   "metadata": {
    "slideshow": {
     "slide_type": "subslide"
    }
   },
   "outputs": [
    {
     "data": {},
     "metadata": {},
     "output_type": "display_data"
    },
    {
     "data": {
      "image/png": "[encoded data removed]",
      "text/plain": [
       "plot without title"
      ]
     },
     "metadata": {},
     "output_type": "display_data"
    }
   ],
   "source": [
    "ggplot(markets, aes(x=score, y=price, fill=score)) + \n",
    "    geom_boxplot() + \n",
    "    geom_jitter(shape=1, position=position_jitter(0.3), color=\"#777777\")+\n",
    "    theme(legend.position=\"none\")+\n",
    "    ggtitle(\"Price vs Score\")+\n",
    "    xlab(\"Score levels\")+\n",
    "    ylab(\"Price in $\")"
   ]
  },
  {
   "cell_type": "markdown",
   "metadata": {
    "slideshow": {
     "slide_type": "skip"
    }
   },
   "source": [
    "Osservazioni:\n",
    "\n",
    "- Come lo score cresce, la variabilità cresce significativamente\n",
    "- Ci sono parecchie case che hanno lo stesso score\n",
    "- Sembra esserci una sorta di relazione tra lo score ed il prezzo, ma non è molto chiara"
   ]
  },
  {
   "cell_type": "code",
   "execution_count": 17,
   "metadata": {
    "slideshow": {
     "slide_type": "subslide"
    }
   },
   "outputs": [
    {
     "data": {},
     "metadata": {},
     "output_type": "display_data"
    },
    {
     "data": {
      "image/png": "[encoded data removed]",
      "text/plain": [
       "plot without title"
      ]
     },
     "metadata": {},
     "output_type": "display_data"
    }
   ],
   "source": [
    "ggplot(markets, aes(x=city.center, y=price, fill=city.center)) + \n",
    "    geom_boxplot() + \n",
    "    geom_jitter(shape=1, position=position_jitter(0.3), color=\"#777777\")+\n",
    "    theme(legend.position=\"none\")+\n",
    "    ggtitle(\"Price vs City Center\")+\n",
    "    xlab(\"City Center\")+\n",
    "    ylab(\"Price in $\")"
   ]
  },
  {
   "cell_type": "markdown",
   "metadata": {
    "slideshow": {
     "slide_type": "skip"
    }
   },
   "source": [
    "Osservazioni:\n",
    "\n",
    "- Le case che non sono in centro città costano un po' di meno\n",
    "- In centro città ci sono più case, molte costano poco (probabilmente sono appartamenti condominiali)"
   ]
  },
  {
   "cell_type": "code",
   "execution_count": 18,
   "metadata": {
    "slideshow": {
     "slide_type": "subslide"
    }
   },
   "outputs": [
    {
     "data": {},
     "metadata": {},
     "output_type": "display_data"
    },
    {
     "data": {
      "image/png": "[encoded data removed]",
      "text/plain": [
       "plot without title"
      ]
     },
     "metadata": {},
     "output_type": "display_data"
    }
   ],
   "source": [
    "ggplot(markets, aes(x=traditional, y=price, fill=traditional)) + \n",
    "    geom_boxplot() + \n",
    "    geom_jitter(shape=1, position=position_jitter(0.3), color=\"#777777\")+\n",
    "    theme(legend.position=\"none\")+\n",
    "    ggtitle(\"Price vs Traditional\")+\n",
    "    xlab(\"Traditional\")+\n",
    "    ylab(\"Price in $\")"
   ]
  },
  {
   "cell_type": "markdown",
   "metadata": {
    "slideshow": {
     "slide_type": "skip"
    }
   },
   "source": [
    "Osservazioni:\n",
    "\n",
    "- Le case moderne tendono a costare di più rispetto alle tradizionali\n",
    "- Le case non tradizionali hanno prezzi molto più variabili"
   ]
  },
  {
   "cell_type": "code",
   "execution_count": 19,
   "metadata": {
    "slideshow": {
     "slide_type": "subslide"
    }
   },
   "outputs": [
    {
     "data": {},
     "metadata": {},
     "output_type": "display_data"
    },
    {
     "data": {
      "image/png": "[encoded data removed]",
      "text/plain": [
       "plot without title"
      ]
     },
     "metadata": {},
     "output_type": "display_data"
    }
   ],
   "source": [
    "ggplot(markets, aes(x=garage, y=price, fill=garage)) + \n",
    "    geom_boxplot() + \n",
    "    geom_jitter(shape=1, position=position_jitter(0.3), color=\"#777777\")+\n",
    "    theme(legend.position=\"none\")+\n",
    "    ggtitle(\"Price vs Garage\")+\n",
    "    xlab(\"Garage\")+\n",
    "    ylab(\"Price in $\")\n"
   ]
  },
  {
   "cell_type": "markdown",
   "metadata": {
    "slideshow": {
     "slide_type": "skip"
    }
   },
   "source": [
    "Osservazioni:\n",
    "\n",
    "- Non vi sono particolari informazioni \n",
    "  "
   ]
  },
  {
   "cell_type": "markdown",
   "metadata": {
    "slideshow": {
     "slide_type": "subslide"
    }
   },
   "source": [
    "Proviamo ora a comparare il predittore dimensione con i predittori categoriali."
   ]
  },
  {
   "cell_type": "code",
   "execution_count": 20,
   "metadata": {
    "collapsed": true,
    "slideshow": {
     "slide_type": "skip"
    }
   },
   "outputs": [],
   "source": [
    "options(repr.plot.width=8, repr.plot.height=5)"
   ]
  },
  {
   "cell_type": "code",
   "execution_count": 21,
   "metadata": {
    "slideshow": {
     "slide_type": "subslide"
    }
   },
   "outputs": [
    {
     "data": {
      "image/png": "[encoded data removed]",
      "text/plain": [
       "plot without title"
      ]
     },
     "metadata": {},
     "output_type": "display_data"
    }
   ],
   "source": [
    "p1 <- ggplot(markets, aes(x=dimension, y=price,color=garage)) +\n",
    "    theme(legend.position=\"none\")+\n",
    "    geom_point(shape=1)+facet_wrap(~garage)+ylab(\"Price in $\")+ \n",
    "    ggtitle(\"Price vs Dimension ~ Garage\")+xlab(\"Dimension in mt²\")\n",
    "\n",
    "p2 <- ggplot(markets, aes(x=dimension, y=price,color=city.center)) +\n",
    "    theme(legend.position=\"none\")+\n",
    "    geom_point(shape=1)+ylab(\"Price in $\")+xlab(\"Dimension in mt²\")+\n",
    "    facet_wrap(~city.center)+ggtitle(\"Price vs Dimension ~ City Center\")\n",
    "    \n",
    "p3 <- ggplot(markets, aes(x=dimension, y=price, color=traditional)) +\n",
    "    theme(legend.position=\"none\")+\n",
    "    geom_point(shape=1)+facet_wrap(~traditional)+ylab(\"Price in $\")+\n",
    "    ggtitle(\"Price vs Dimension ~ Traditional\")+xlab(\"Dimension in mt²\")\n",
    "   \n",
    "multiplot(p1,p2,p3, cols=2)"
   ]
  },
  {
   "cell_type": "code",
   "execution_count": 22,
   "metadata": {
    "slideshow": {
     "slide_type": "subslide"
    }
   },
   "outputs": [
    {
     "data": {},
     "metadata": {},
     "output_type": "display_data"
    },
    {
     "data": {
      "image/png": "[encoded data removed]",
      "text/plain": [
       "plot without title"
      ]
     },
     "metadata": {},
     "output_type": "display_data"
    }
   ],
   "source": [
    "ggplot(markets,aes(x=dimension, y=price, color=score)) + \n",
    "    coord_cartesian( xlim = c(65, 350), ylim = c(54000, 216900)) + \n",
    "    geom_point(shape=16) + facet_wrap(~score) + \n",
    "    ggtitle(\"Price vs Dimension ~ Score\")+xlab(\"Dimension in mt²\") + ylab(\"Price in $\")"
   ]
  },
  {
   "cell_type": "markdown",
   "metadata": {
    "slideshow": {
     "slide_type": "skip"
    }
   },
   "source": [
    "As can be seen there is nothing exremely informative with these plots. The only thing that is remarkable is that the two **outliers should be removed** since I suspect they **will have a bad influence on the predictions**."
   ]
  },
  {
   "cell_type": "markdown",
   "metadata": {
    "slideshow": {
     "slide_type": "slide"
    }
   },
   "source": [
    "## 3. Creazione Modello\n",
    "\n",
    "In questa parte si proverà a creare il nostro modello statistico che cercherà di **descrivere il fenomeno** catturato nel dataset. Inizierò con un modello semplice fino ad arrivare a quello scelto. "
   ]
  },
  {
   "cell_type": "markdown",
   "metadata": {
    "slideshow": {
     "slide_type": "subslide"
    }
   },
   "source": [
    "### Modello Lineare con Outliers\n",
    "\n",
    "<br>\n",
    "\n",
    "$$Y= \\beta_0 + \\beta_1 X_1+\\epsilon $$\n",
    "\n",
    "Dove:\n",
    "\n",
    "- $Y$ corrisponde a `price`\n",
    "- $X_1$ corrisponde a `dimension`"
   ]
  },
  {
   "cell_type": "code",
   "execution_count": 23,
   "metadata": {
    "slideshow": {
     "slide_type": "subslide"
    }
   },
   "outputs": [
    {
     "data": {
      "text/plain": [
       "\n",
       "Call:\n",
       "lm(formula = price ~ dimension, data = markets)\n",
       "\n",
       "Residuals:\n",
       "   Min     1Q Median     3Q    Max \n",
       "-94756 -10415   -299   9252  75176 \n",
       "\n",
       "Coefficients:\n",
       "            Estimate Std. Error t value Pr(>|t|)    \n",
       "(Intercept) 19011.51    5144.50   3.696 0.000298 ***\n",
       "dimension     589.13      33.29  17.695  < 2e-16 ***\n",
       "---\n",
       "Signif. codes:  0 '***' 0.001 '**' 0.01 '*' 0.05 '.' 0.1 ' ' 1\n",
       "\n",
       "Residual standard error: 21070 on 165 degrees of freedom\n",
       "Multiple R-squared:  0.6549,\tAdjusted R-squared:  0.6528 \n",
       "F-statistic: 313.1 on 1 and 165 DF,  p-value: < 2.2e-16\n"
      ]
     },
     "metadata": {},
     "output_type": "display_data"
    }
   ],
   "source": [
    "mod_a <- lm(price ~ dimension, data=markets)\n",
    "summary(mod_a)"
   ]
  },
  {
   "cell_type": "code",
   "execution_count": 24,
   "metadata": {
    "collapsed": true,
    "slideshow": {
     "slide_type": "skip"
    }
   },
   "outputs": [],
   "source": [
    "options(repr.plot.width=8, repr.plot.height=4)\n",
    "oldw <- getOption(\"warn\")\n",
    "options(warn = -1)"
   ]
  },
  {
   "cell_type": "code",
   "execution_count": 25,
   "metadata": {
    "slideshow": {
     "slide_type": "subslide"
    }
   },
   "outputs": [
    {
     "data": {
      "image/png": "[encoded data removed]",
      "text/plain": [
       "plot without title"
      ]
     },
     "metadata": {},
     "output_type": "display_data"
    }
   ],
   "source": [
    "library(car)\n",
    "residualPlots(mod_a,test=FALSE)"
   ]
  },
  {
   "cell_type": "code",
   "execution_count": 26,
   "metadata": {
    "slideshow": {
     "slide_type": "skip"
    }
   },
   "outputs": [
    {
     "data": {
      "text/html": [
       "<ol class=list-inline>\n",
       "\t<li>1</li>\n",
       "\t<li>2</li>\n",
       "</ol>\n"
      ],
      "text/latex": [
       "\\begin{enumerate*}\n",
       "\\item 1\n",
       "\\item 2\n",
       "\\end{enumerate*}\n"
      ],
      "text/markdown": [
       "1. 1\n",
       "2. 2\n",
       "\n",
       "\n"
      ],
      "text/plain": [
       "[1] 1 2"
      ]
     },
     "metadata": {},
     "output_type": "display_data"
    },
    {
     "data": {
      "image/png": "[encoded data removed]",
      "text/plain": [
       "plot without title"
      ]
     },
     "metadata": {},
     "output_type": "display_data"
    }
   ],
   "source": [
    "options(repr.plot.width=8, repr.plot.height=4) \n",
    "oldw <- getOption(\"warn\")\n",
    "options(warn = -1)\n",
    "split.screen(c(1, 2))"
   ]
  },
  {
   "cell_type": "code",
   "execution_count": 27,
   "metadata": {
    "scrolled": false,
    "slideshow": {
     "slide_type": "subslide"
    }
   },
   "outputs": [
    {
     "data": {
      "text/html": [
       "<ol class=list-inline>\n",
       "\t<li>3</li>\n",
       "\t<li>4</li>\n",
       "</ol>\n"
      ],
      "text/latex": [
       "\\begin{enumerate*}\n",
       "\\item 3\n",
       "\\item 4\n",
       "\\end{enumerate*}\n"
      ],
      "text/markdown": [
       "1. 3\n",
       "2. 4\n",
       "\n",
       "\n"
      ],
      "text/plain": [
       "[1] 3 4"
      ]
     },
     "metadata": {},
     "output_type": "display_data"
    },
    {
     "data": {
      "image/png": "[encoded data removed]",
      "text/plain": [
       "plot without title"
      ]
     },
     "metadata": {},
     "output_type": "display_data"
    }
   ],
   "source": [
    "split.screen(c(1, 2))\n",
    "\n",
    "screen(1)\n",
    "qqPlot(rstandard(mod_a), xlab = \"Normal quantiles\", ylab = \"Residual quantiles\")\n",
    "\n",
    "screen(2)\n",
    "plot(residuals(mod_a),xlab = \"Data Index\", ylab = \"Residuals\")"
   ]
  },
  {
   "cell_type": "code",
   "execution_count": 28,
   "metadata": {
    "collapsed": true,
    "slideshow": {
     "slide_type": "skip"
    }
   },
   "outputs": [],
   "source": [
    "options(warn = oldw)"
   ]
  },
  {
   "cell_type": "markdown",
   "metadata": {
    "slideshow": {
     "slide_type": "subslide"
    }
   },
   "source": [
    "Il modello è molto semplice e facile da **interpretare**:\n",
    "\n",
    "$$\\texttt{price} = 19012 + 589*\\texttt{dimension}+\\epsilon $$\n",
    "\n",
    "Ci sono dei **problemi evidenti**:\n",
    "\n",
    "- Gli outliers hanno un forte impatto nel modello. \n",
    "- Nel grafico residui vs dimensione possiamo notare che non vi è una relazione lineare\n",
    "- Il `qqplot` è disastroso\n",
    "\n",
    "Proviamo a sistemare i primi due problemi."
   ]
  },
  {
   "cell_type": "markdown",
   "metadata": {
    "slideshow": {
     "slide_type": "subslide"
    }
   },
   "source": [
    "## Modello Quadratico senza Outliers\n",
    "\n",
    "<br>\n",
    "\n",
    "$$Y= \\beta_0 + \\beta_1 X^2_1+\\epsilon $$\n",
    "\n",
    "Dove:\n",
    "\n",
    "- $Y$ corrisponde a `price`\n",
    "- $X_1$ corrisponde a `dimension`"
   ]
  },
  {
   "cell_type": "code",
   "execution_count": 29,
   "metadata": {
    "slideshow": {
     "slide_type": "subslide"
    }
   },
   "outputs": [
    {
     "data": {
      "text/plain": [
       "\n",
       "Call:\n",
       "lm(formula = price ~ I(dimension^2), data = markets, subset = -markets.outliers)\n",
       "\n",
       "Residuals:\n",
       "   Min     1Q Median     3Q    Max \n",
       "-63187  -8659    191  10243  71843 \n",
       "\n",
       "Coefficients:\n",
       "                Estimate Std. Error t value Pr(>|t|)    \n",
       "(Intercept)    5.743e+04  2.482e+03   23.14   <2e-16 ***\n",
       "I(dimension^2) 2.089e+00  9.101e-02   22.95   <2e-16 ***\n",
       "---\n",
       "Signif. codes:  0 '***' 0.001 '**' 0.01 '*' 0.05 '.' 0.1 ' ' 1\n",
       "\n",
       "Residual standard error: 17490 on 163 degrees of freedom\n",
       "Multiple R-squared:  0.7637,\tAdjusted R-squared:  0.7623 \n",
       "F-statistic: 526.8 on 1 and 163 DF,  p-value: < 2.2e-16\n"
      ]
     },
     "metadata": {},
     "output_type": "display_data"
    }
   ],
   "source": [
    "mod_b <- lm(price ~ I(dimension^2) , data=markets, subset=-markets.outliers)\n",
    "summary(mod_b)"
   ]
  },
  {
   "cell_type": "code",
   "execution_count": 30,
   "metadata": {
    "collapsed": true,
    "slideshow": {
     "slide_type": "skip"
    }
   },
   "outputs": [],
   "source": [
    "options(repr.plot.width=8, repr.plot.height=4)"
   ]
  },
  {
   "cell_type": "code",
   "execution_count": 31,
   "metadata": {
    "slideshow": {
     "slide_type": "subslide"
    }
   },
   "outputs": [
    {
     "data": {
      "image/png": "[encoded data removed]",
      "text/plain": [
       "plot without title"
      ]
     },
     "metadata": {},
     "output_type": "display_data"
    }
   ],
   "source": [
    "residualPlots(mod_b,test=FALSE)"
   ]
  },
  {
   "cell_type": "code",
   "execution_count": 32,
   "metadata": {
    "slideshow": {
     "slide_type": "skip"
    }
   },
   "outputs": [
    {
     "data": {
      "text/html": [
       "<ol class=list-inline>\n",
       "\t<li>5</li>\n",
       "\t<li>6</li>\n",
       "</ol>\n"
      ],
      "text/latex": [
       "\\begin{enumerate*}\n",
       "\\item 5\n",
       "\\item 6\n",
       "\\end{enumerate*}\n"
      ],
      "text/markdown": [
       "1. 5\n",
       "2. 6\n",
       "\n",
       "\n"
      ],
      "text/plain": [
       "[1] 5 6"
      ]
     },
     "metadata": {},
     "output_type": "display_data"
    },
    {
     "data": {
      "image/png": "[encoded data removed]",
      "text/plain": [
       "plot without title"
      ]
     },
     "metadata": {},
     "output_type": "display_data"
    }
   ],
   "source": [
    "options(repr.plot.width=8, repr.plot.height=4) \n",
    "oldw <- getOption(\"warn\")\n",
    "options(warn = -1)\n",
    "split.screen(c(1, 2))"
   ]
  },
  {
   "cell_type": "code",
   "execution_count": 33,
   "metadata": {
    "scrolled": false,
    "slideshow": {
     "slide_type": "subslide"
    }
   },
   "outputs": [
    {
     "data": {
      "image/png": "[encoded data removed]",
      "text/plain": [
       "plot without title"
      ]
     },
     "metadata": {},
     "output_type": "display_data"
    }
   ],
   "source": [
    "screen(1)\n",
    "qqPlot(rstandard(mod_b), xlab = \"Normal quantiles\", ylab = \"Residual quantiles\")\n",
    "\n",
    "screen(2)\n",
    "plot(residuals(mod_b),xlab = \"Data Index\", ylab = \"Residuals\")"
   ]
  },
  {
   "cell_type": "code",
   "execution_count": 34,
   "metadata": {
    "collapsed": true,
    "slideshow": {
     "slide_type": "skip"
    }
   },
   "outputs": [],
   "source": [
    "options(warn = oldw)"
   ]
  },
  {
   "cell_type": "markdown",
   "metadata": {
    "slideshow": {
     "slide_type": "subslide"
    }
   },
   "source": [
    "## Modelli candidati"
   ]
  },
  {
   "cell_type": "markdown",
   "metadata": {
    "slideshow": {
     "slide_type": "subslide"
    }
   },
   "source": [
    "### Modello 1\n",
    "\n",
    "<br>\n",
    "\n",
    "$$Y= \\beta_0 + \\beta_1 X^2_1 + \\beta_2 X_2+\\epsilon $$\n",
    "\n",
    "Dove:\n",
    "\n",
    "- $Y$ corrisponde a `price` \n",
    "- $X_1$ corrisponde a `dimension`.\n",
    "- $X_2$ corrisponde a `traditional`."
   ]
  },
  {
   "cell_type": "code",
   "execution_count": 35,
   "metadata": {
    "slideshow": {
     "slide_type": "subslide"
    }
   },
   "outputs": [
    {
     "data": {
      "text/plain": [
       "\n",
       "Call:\n",
       "lm(formula = price ~ I(dimension^2) + traditional, data = markets, \n",
       "    subset = -markets.outliers)\n",
       "\n",
       "Residuals:\n",
       "   Min     1Q Median     3Q    Max \n",
       "-66649  -9912    984   9128  63826 \n",
       "\n",
       "Coefficients:\n",
       "                Estimate Std. Error t value Pr(>|t|)    \n",
       "(Intercept)    5.848e+04  2.403e+03  24.339  < 2e-16 ***\n",
       "I(dimension^2) 1.916e+00  9.880e-02  19.390  < 2e-16 ***\n",
       "traditionalyes 1.366e+04  3.616e+03   3.778 0.000222 ***\n",
       "---\n",
       "Signif. codes:  0 '***' 0.001 '**' 0.01 '*' 0.05 '.' 0.1 ' ' 1\n",
       "\n",
       "Residual standard error: 16820 on 162 degrees of freedom\n",
       "Multiple R-squared:  0.7828,\tAdjusted R-squared:  0.7802 \n",
       "F-statistic:   292 on 2 and 162 DF,  p-value: < 2.2e-16\n"
      ]
     },
     "metadata": {},
     "output_type": "display_data"
    }
   ],
   "source": [
    "mod1 <- lm(price ~ I(dimension^2) + traditional  , data=markets, subset=-markets.outliers)\n",
    "summary(mod1)"
   ]
  },
  {
   "cell_type": "markdown",
   "metadata": {
    "slideshow": {
     "slide_type": "subslide"
    }
   },
   "source": [
    "\n",
    "Se la casa è tradizionale:\n",
    "\n",
    "$$ \\texttt{price} = (5848+ 1.366) + 1.916*\\texttt{dimension}^2 +\\epsilon $$\n",
    "\n",
    "altrimenti:\n",
    "\n",
    "$$ \\texttt{price} = 5848 + 1.916*\\texttt{dimension}^2 +\\epsilon $$\n"
   ]
  },
  {
   "cell_type": "code",
   "execution_count": 36,
   "metadata": {
    "collapsed": true,
    "slideshow": {
     "slide_type": "skip"
    }
   },
   "outputs": [],
   "source": [
    "options(repr.plot.width=8, repr.plot.height=7)"
   ]
  },
  {
   "cell_type": "code",
   "execution_count": 37,
   "metadata": {
    "slideshow": {
     "slide_type": "subslide"
    }
   },
   "outputs": [
    {
     "data": {
      "image/png": "[encoded data removed]",
      "text/plain": [
       "plot without title"
      ]
     },
     "metadata": {},
     "output_type": "display_data"
    }
   ],
   "source": [
    "residualPlots(mod1,test=FALSE)"
   ]
  },
  {
   "cell_type": "code",
   "execution_count": 38,
   "metadata": {
    "slideshow": {
     "slide_type": "skip"
    }
   },
   "outputs": [
    {
     "data": {
      "text/html": [
       "<ol class=list-inline>\n",
       "\t<li>7</li>\n",
       "\t<li>8</li>\n",
       "</ol>\n"
      ],
      "text/latex": [
       "\\begin{enumerate*}\n",
       "\\item 7\n",
       "\\item 8\n",
       "\\end{enumerate*}\n"
      ],
      "text/markdown": [
       "1. 7\n",
       "2. 8\n",
       "\n",
       "\n"
      ],
      "text/plain": [
       "[1] 7 8"
      ]
     },
     "metadata": {},
     "output_type": "display_data"
    },
    {
     "data": {
      "image/png": "[encoded data removed]",
      "text/plain": [
       "plot without title"
      ]
     },
     "metadata": {},
     "output_type": "display_data"
    }
   ],
   "source": [
    "options(repr.plot.width=8, repr.plot.height=4) \n",
    "oldw <- getOption(\"warn\")\n",
    "options(warn = -1)\n",
    "split.screen(c(1, 2))"
   ]
  },
  {
   "cell_type": "code",
   "execution_count": 39,
   "metadata": {
    "slideshow": {
     "slide_type": "subslide"
    }
   },
   "outputs": [
    {
     "data": {
      "image/png": "[encoded data removed]",
      "text/plain": [
       "plot without title"
      ]
     },
     "metadata": {},
     "output_type": "display_data"
    }
   ],
   "source": [
    "screen(1)\n",
    "qqPlot(rstandard(mod1), xlab = \"Normal quantiles\", ylab = \"Residual quantiles\")\n",
    "\n",
    "screen(2)\n",
    "plot(residuals(mod1),xlab = \"Data Index\", ylab = \"Residuals\")"
   ]
  },
  {
   "cell_type": "code",
   "execution_count": 40,
   "metadata": {
    "collapsed": true,
    "slideshow": {
     "slide_type": "skip"
    }
   },
   "outputs": [],
   "source": [
    "options(warn = oldw)"
   ]
  },
  {
   "cell_type": "markdown",
   "metadata": {
    "slideshow": {
     "slide_type": "subslide"
    }
   },
   "source": [
    "### Modello 2 : \n",
    "\n",
    "<br>\n",
    "\n",
    "$$Y= \\beta_0 + \\beta_1 X^2_1 + \\beta_2 X_2 + \\beta_3 X_3 + \\beta_4 X_2X_3 +\\epsilon$$\n",
    "\n",
    "Dove:\n",
    "\n",
    "- $Y$ corrisponde a `price` \n",
    "- $X_1$ corrisponde a `dimension`.\n",
    "- $X_2$ corrisponde a `traditional`.\n",
    "- $X_3$ corrisponde a `garage`."
   ]
  },
  {
   "cell_type": "code",
   "execution_count": 41,
   "metadata": {
    "slideshow": {
     "slide_type": "subslide"
    }
   },
   "outputs": [
    {
     "data": {
      "text/plain": [
       "\n",
       "Call:\n",
       "lm(formula = price ~ I(dimension^2) + traditional * garage, data = markets, \n",
       "    subset = -markets.outliers)\n",
       "\n",
       "Residuals:\n",
       "   Min     1Q Median     3Q    Max \n",
       "-46067 -11393   1259  10143  60534 \n",
       "\n",
       "Coefficients:\n",
       "                           Estimate Std. Error t value Pr(>|t|)    \n",
       "(Intercept)               5.837e+04  2.438e+03  23.943  < 2e-16 ***\n",
       "I(dimension^2)            1.897e+00  9.693e-02  19.566  < 2e-16 ***\n",
       "traditionalyes            1.780e+04  3.821e+03   4.659 6.64e-06 ***\n",
       "garageyes                 2.594e+03  3.723e+03   0.697  0.48697    \n",
       "traditionalyes:garageyes -2.596e+04  8.800e+03  -2.951  0.00365 ** \n",
       "---\n",
       "Signif. codes:  0 '***' 0.001 '**' 0.01 '*' 0.05 '.' 0.1 ' ' 1\n",
       "\n",
       "Residual standard error: 16460 on 160 degrees of freedom\n",
       "Multiple R-squared:  0.7945,\tAdjusted R-squared:  0.7894 \n",
       "F-statistic: 154.7 on 4 and 160 DF,  p-value: < 2.2e-16\n"
      ]
     },
     "metadata": {},
     "output_type": "display_data"
    }
   ],
   "source": [
    "mod2 <- lm(price ~ I(dimension^2) + traditional*garage  , data=markets, subset=-markets.outliers)\n",
    "summary(mod2)"
   ]
  },
  {
   "cell_type": "code",
   "execution_count": 42,
   "metadata": {
    "collapsed": true,
    "slideshow": {
     "slide_type": "skip"
    }
   },
   "outputs": [],
   "source": [
    "options(repr.plot.width=8, repr.plot.height=7)"
   ]
  },
  {
   "cell_type": "code",
   "execution_count": 43,
   "metadata": {
    "slideshow": {
     "slide_type": "subslide"
    }
   },
   "outputs": [
    {
     "data": {
      "image/png": "[encoded data removed]",
      "text/plain": [
       "plot without title"
      ]
     },
     "metadata": {},
     "output_type": "display_data"
    }
   ],
   "source": [
    "residualPlots(mod2,test=FALSE)"
   ]
  },
  {
   "cell_type": "code",
   "execution_count": 44,
   "metadata": {
    "slideshow": {
     "slide_type": "skip"
    }
   },
   "outputs": [
    {
     "data": {
      "text/html": [
       "<ol class=list-inline>\n",
       "\t<li>9</li>\n",
       "\t<li>10</li>\n",
       "</ol>\n"
      ],
      "text/latex": [
       "\\begin{enumerate*}\n",
       "\\item 9\n",
       "\\item 10\n",
       "\\end{enumerate*}\n"
      ],
      "text/markdown": [
       "1. 9\n",
       "2. 10\n",
       "\n",
       "\n"
      ],
      "text/plain": [
       "[1]  9 10"
      ]
     },
     "metadata": {},
     "output_type": "display_data"
    },
    {
     "data": {
      "image/png": "[encoded data removed]",
      "text/plain": [
       "plot without title"
      ]
     },
     "metadata": {},
     "output_type": "display_data"
    }
   ],
   "source": [
    "options(repr.plot.width=8, repr.plot.height=4) \n",
    "oldw <- getOption(\"warn\")\n",
    "options(warn = -1)\n",
    "split.screen(c(1, 2))\n"
   ]
  },
  {
   "cell_type": "code",
   "execution_count": 45,
   "metadata": {
    "scrolled": false,
    "slideshow": {
     "slide_type": "subslide"
    }
   },
   "outputs": [
    {
     "data": {
      "image/png": "[encoded data removed]",
      "text/plain": [
       "plot without title"
      ]
     },
     "metadata": {},
     "output_type": "display_data"
    }
   ],
   "source": [
    "screen(1)\n",
    "qqPlot(rstandard(mod2), xlab = \"Normal quantiles\", ylab = \"Residual quantiles\")\n",
    "\n",
    "screen(2)\n",
    "plot(residuals(mod2),xlab = \"Data Index\", ylab = \"Residuals\")"
   ]
  },
  {
   "cell_type": "code",
   "execution_count": 46,
   "metadata": {
    "collapsed": true,
    "slideshow": {
     "slide_type": "skip"
    }
   },
   "outputs": [],
   "source": [
    "options(warn = oldw)"
   ]
  },
  {
   "cell_type": "markdown",
   "metadata": {
    "slideshow": {
     "slide_type": "subslide"
    }
   },
   "source": [
    "Sono stati trovati diversi modelli con migliori $R^2_{adj}$, ma la preferenza è ricaduta su un **modello più semplice** anzichè più complesso.\n",
    "\n",
    "````r\n",
    "model <- lm(price ~ dimension*garage*traditional*city.center*score, data=markets, subset=-markets.outliers)\n",
    "````\n",
    "\n",
    "Come si può intuire questo modello non è per niente semplice per questo è stato scartato."
   ]
  },
  {
   "cell_type": "markdown",
   "metadata": {
    "slideshow": {
     "slide_type": "slide"
    }
   },
   "source": [
    "## 4. Validation\n",
    "\n",
    "In questo step valideremo il modello creato, facendo delle **previsioni** di prezzi di case. In questo modo potremmo capire quanto sia efficace il nostro modello."
   ]
  },
  {
   "cell_type": "markdown",
   "metadata": {
    "slideshow": {
     "slide_type": "subslide"
    }
   },
   "source": [
    "Ho usato la tecnica della **cross validation** per generare e testare il modello "
   ]
  },
  {
   "cell_type": "markdown",
   "metadata": {
    "slideshow": {
     "slide_type": "fragment"
    }
   },
   "source": [
    "![xval](xval.png)"
   ]
  },
  {
   "cell_type": "markdown",
   "metadata": {
    "collapsed": true,
    "slideshow": {
     "slide_type": "subslide"
    }
   },
   "source": [
    "Per prima cosa **randomizzo i dati** in modo da rimuovere qualsiasi ordine dei dati, questo serve ad uniformare il più possibile le istanze."
   ]
  },
  {
   "cell_type": "code",
   "execution_count": 47,
   "metadata": {
    "slideshow": {
     "slide_type": "fragment"
    }
   },
   "outputs": [],
   "source": [
    "#Randomly shuffle the data\n",
    "markets.nout <- markets[-markets.outliers,]\n",
    "\n",
    "markets.nout<-markets.nout[sample(nrow(markets.nout)),]"
   ]
  },
  {
   "cell_type": "code",
   "execution_count": 48,
   "metadata": {
    "scrolled": false,
    "slideshow": {
     "slide_type": "subslide"
    }
   },
   "outputs": [
    {
     "name": "stdout",
     "output_type": "stream",
     "text": [
      "\n",
      "--------------------- Modello 1 -----------------------\n",
      "R^2 in Training: 0.801 \n",
      "Errore medio in Test: 6255.040 \n",
      "Dev. Std. errori in Test: 19205.485 \n",
      "\n",
      "--------------------- Modello 2 -----------------------\n",
      "R^2 in Training: 0.796 \n",
      "Errore medio in Test: 2051.709 \n",
      "Dev. Std. errori in Test: 15268.178 \n",
      "\n",
      "--------------------- Modello 3 -----------------------\n",
      "R^2 in Training: 0.776 \n",
      "Errore medio in Test: 3490.589 \n",
      "Dev. Std. errori in Test: 17862.780 \n",
      "\n",
      "--------------------- Modello 4 -----------------------\n",
      "R^2 in Training: 0.787 \n",
      "Errore medio in Test: -4042.921 \n",
      "Dev. Std. errori in Test: 10835.263 \n",
      "\n",
      "--------------------- Modello 5 -----------------------\n",
      "R^2 in Training: 0.783 \n",
      "Errore medio in Test: -2518.091 \n",
      "Dev. Std. errori in Test: 18519.902 \n",
      "\n",
      "--------------------- Modello 6 -----------------------\n",
      "R^2 in Training: 0.806 \n",
      "Errore medio in Test: -10163.102 \n",
      "Dev. Std. errori in Test: 17916.989 \n",
      "\n",
      "--------------------- Modello 7 -----------------------\n",
      "R^2 in Training: 0.776 \n",
      "Errore medio in Test: -2873.402 \n",
      "Dev. Std. errori in Test: 18049.072 \n",
      "\n",
      "--------------------- Modello 8 -----------------------\n",
      "R^2 in Training: 0.812 \n",
      "Errore medio in Test: -219.066 \n",
      "Dev. Std. errori in Test: 22294.053 \n",
      "\n",
      "--------------------- Modello 9 -----------------------\n",
      "R^2 in Training: 0.804 \n",
      "Errore medio in Test: 2265.635 \n",
      "Dev. Std. errori in Test: 18765.962 \n",
      "\n",
      "--------------------- Modello 10 -----------------------\n",
      "R^2 in Training: 0.749 \n",
      "Errore medio in Test: 3678.412 \n",
      "Dev. Std. errori in Test: 8463.784 \n"
     ]
    }
   ],
   "source": [
    "all_errors <- c()\n",
    "all_sderrors <- c()\n",
    "all_rsq <- c()\n",
    "\n",
    "\n",
    "# Creazione dei training-test sets\n",
    "folds <- cut(seq(1,nrow(markets.nout)),breaks=10,labels=FALSE)\n",
    "\n",
    "for(i in 1:10){\n",
    "    \n",
    "    # Segmentazione dataset\n",
    "    testIndexes <- which(folds==i,arr.ind=TRUE)\n",
    "    testData <- markets.nout[testIndexes, ]\n",
    "    trainData <- markets.nout[-testIndexes, ]\n",
    "    \n",
    "    # Modello\n",
    "    mod2 <- lm(price ~ I(dimension^2) + garage*traditional , data=trainData)\n",
    "    rsq <- summary(mod2)$adj.r.square\n",
    "    \n",
    "    # Previsioni\n",
    "    pred <- predict(mod2, newdata=testData)\n",
    "    error <- pred-testData$price\n",
    "    \n",
    "    # Debug\n",
    "    cat(sprintf(\"\\n--------------------- Modello %d -----------------------\\n\", i))\n",
    "    cat(sprintf(\"R^2 in Training: %.3f \\n\",rsq))\n",
    "    cat(sprintf(\"Errore medio in Test: %.3f \\n\", mean(error)))\n",
    "    cat(sprintf(\"Dev. Std. errori in Test: %.3f \\n\", sd(error)))\n",
    "    \n",
    "    \n",
    "    # Statistiche totali\n",
    "    all_errors <- c(all_errors, error)\n",
    "    all_sderrors <- c(all_sderrors, sd(error))\n",
    "    all_rsq <- c(all_rsq, rsq)\n",
    "    \n",
    "}"
   ]
  },
  {
   "cell_type": "code",
   "execution_count": 49,
   "metadata": {
    "collapsed": true,
    "slideshow": {
     "slide_type": "skip"
    }
   },
   "outputs": [],
   "source": [
    "options(repr.plot.width=6, repr.plot.height=4) "
   ]
  },
  {
   "cell_type": "code",
   "execution_count": 50,
   "metadata": {
    "slideshow": {
     "slide_type": "subslide"
    }
   },
   "outputs": [
    {
     "data": {},
     "metadata": {},
     "output_type": "display_data"
    },
    {
     "data": {
      "image/png": "[encoded data removed]",
      "text/plain": [
       "plot without title"
      ]
     },
     "metadata": {},
     "output_type": "display_data"
    }
   ],
   "source": [
    "# ggplot richiede un data frame\n",
    "flds <- factor(folds, labels=c(\"1\",\"2\",\"3\",\"4\",\"5\",\"6\",\"7\",\"8\",\"9\",\"10\"))\n",
    "aux <- data.frame(all_errors, flds )\n",
    "\n",
    "ggplot(aux, aes(x= flds, y=all_errors, fill=flds))+\n",
    "  geom_boxplot()+\n",
    "  geom_jitter(shape=1, position=position_jitter(0.1), color=\"#777777\")+\n",
    "  theme(legend.position=\"none\")+\n",
    "  ggtitle(\"Test Performances\")+\n",
    "  xlab(\"Fold\")+\n",
    "  ylab(\"Errors\")"
   ]
  },
  {
   "cell_type": "code",
   "execution_count": 51,
   "metadata": {
    "slideshow": {
     "slide_type": "subslide"
    }
   },
   "outputs": [
    {
     "name": "stdout",
     "output_type": "stream",
     "text": [
      "\n",
      "-.-.-.-.-.-.-.- Statistiche Totali -.-.-.-.-.-.-.-.-.-.-\n",
      "Media r_quadro aggiustato per ogni modello: 0.789 \n",
      "Media errori per ogni modello: -136.462 \n",
      "Media deviazioni standard per ogni modello: 16718.147 \n"
     ]
    }
   ],
   "source": [
    "cat(sprintf(\"\\n-.-.-.-.-.-.-.- Statistiche Totali -.-.-.-.-.-.-.-.-.-.-\\n\"))\n",
    "cat(sprintf(\"Media r_quadro aggiustato per ogni modello: %.3f \\n\", mean(all_rsq)))\n",
    "cat(sprintf(\"Media errori per ogni modello: %.3f \\n\", mean(all_errors)))\n",
    "cat(sprintf(\"Media deviazioni standard per ogni modello: %.3f \\n\", mean(all_sderrors)))"
   ]
  },
  {
   "cell_type": "markdown",
   "metadata": {
    "slideshow": {
     "slide_type": "slide"
    }
   },
   "source": [
    "## 5. Conclusione\n",
    "\n",
    "Il modello proposto **non è molto robusto**, in particolare non credo possa fornire previsioni precise e veramente credibili nei casi reali, ma rimane comunque un buon strumento per avere una idea del fenomeno.\n",
    "\n",
    "Riassumendo:\n",
    "1. Preprocessing\n",
    "  - Rilevamento valori mandcanti\n",
    "  - Trasformazione delle variabili\n",
    "2. Exploratory Data Analysis \n",
    "  - Visualizzazione delle relazioni\n",
    "  - Rilevamento outliers\n",
    "3. Costruzione Modello\n",
    "  - Definizione\n",
    "  - Analisi del modello\n",
    "  - Assunzioni del modello\n",
    "4. Valutazione del modello\n"
   ]
  },
  {
   "cell_type": "markdown",
   "metadata": {
    "slideshow": {
     "slide_type": "slide"
    }
   },
   "source": [
    "<center>\n",
    "Grazie!\n",
    "</center>"
   ]
  }
 ],
 "metadata": {
  "anaconda-cloud": {},
  "celltoolbar": "Slideshow",
  "kernelspec": {
   "display_name": "R",
   "language": "R",
   "name": "ir"
  },
  "language_info": {
   "codemirror_mode": "r",
   "file_extension": ".r",
   "mimetype": "text/x-r-source",
   "name": "R",
   "pygments_lexer": "r",
   "version": "3.3.1"
  }
 },
 "nbformat": 4,
 "nbformat_minor": 1
}
